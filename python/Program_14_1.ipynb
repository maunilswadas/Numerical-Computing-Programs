{
 "cells": [
  {
   "cell_type": "code",
   "execution_count": 1,
   "metadata": {
    "collapsed": false
   },
   "outputs": [
    {
     "ename": "ImportError",
     "evalue": "No module named 'bokeh'",
     "output_type": "error",
     "traceback": [
      "\u001b[0;31m---------------------------------------------------------------------------\u001b[0m",
      "\u001b[0;31mImportError\u001b[0m                               Traceback (most recent call last)",
      "\u001b[0;32m<ipython-input-1-2ef7c8f863c5>\u001b[0m in \u001b[0;36m<module>\u001b[0;34m()\u001b[0m\n\u001b[0;32m----> 1\u001b[0;31m \u001b[1;32mfrom\u001b[0m \u001b[0mbokeh\u001b[0m\u001b[1;33m.\u001b[0m\u001b[0mplotting\u001b[0m \u001b[1;32mimport\u001b[0m \u001b[0mshow\u001b[0m\u001b[1;33m,\u001b[0m \u001b[0mfigure\u001b[0m\u001b[1;33m,\u001b[0m \u001b[0moutput_notebook\u001b[0m\u001b[1;33m\u001b[0m\u001b[0m\n\u001b[0m\u001b[1;32m      2\u001b[0m \u001b[1;32mfrom\u001b[0m \u001b[0mbokeh\u001b[0m\u001b[1;33m.\u001b[0m\u001b[0mmodels\u001b[0m\u001b[1;33m.\u001b[0m\u001b[0mwidgets\u001b[0m \u001b[1;32mimport\u001b[0m \u001b[0mRadioGroup\u001b[0m\u001b[1;33m,\u001b[0m \u001b[0mButton\u001b[0m\u001b[1;33m\u001b[0m\u001b[0m\n\u001b[1;32m      3\u001b[0m \u001b[1;33m\u001b[0m\u001b[0m\n\u001b[1;32m      4\u001b[0m \u001b[1;32mfrom\u001b[0m \u001b[0mlibrary\u001b[0m\u001b[1;33m.\u001b[0m\u001b[0mRandomNormal\u001b[0m \u001b[1;32mimport\u001b[0m \u001b[0mnextCentral\u001b[0m\u001b[1;33m,\u001b[0m \u001b[0mnextPolar\u001b[0m\u001b[1;33m,\u001b[0m \u001b[0mnextRatio\u001b[0m\u001b[1;33m\u001b[0m\u001b[0m\n\u001b[1;32m      5\u001b[0m \u001b[1;32mfrom\u001b[0m \u001b[0mlibrary\u001b[0m\u001b[1;33m.\u001b[0m\u001b[0mBuckets\u001b[0m \u001b[1;32mimport\u001b[0m \u001b[0mBuckets\u001b[0m\u001b[1;33m\u001b[0m\u001b[0m\n",
      "\u001b[0;31mImportError\u001b[0m: No module named 'bokeh'"
     ]
    }
   ],
   "source": [
    "from library.RandomNormal import nextCentral, nextPolar, nextRatio\n",
    "from library.Buckets import Buckets"
   ]
  },
  {
   "cell_type": "code",
   "execution_count": 3,
   "metadata": {
    "collapsed": false
   },
   "outputs": [],
   "source": [
    "BUCKET_COUNT = 32\n",
    "NUMBER_COUNT = 100000\n",
    "\n",
    "mean = BUCKET_COUNT/2;\n",
    "stddev = BUCKET_COUNT/6;\n",
    "buckets = Buckets(BUCKET_COUNT)\n",
    "buckets.setLimits(0, BUCKET_COUNT-1)"
   ]
  },
  {
   "cell_type": "code",
   "execution_count": 4,
   "metadata": {
    "collapsed": false
   },
   "outputs": [],
   "source": [
    "def central():\n",
    "    for _ in range(NUMBER_COUNT):\n",
    "        buckets.put(nextCentral(stddev,mean))\n",
    "        \n",
    "def polar():\n",
    "    for _ in range(NUMBER_COUNT):\n",
    "        buckets.put(nextPolar(stddev,mean))\n",
    "\n",
    "def ratio():\n",
    "    for _ in range(NUMBER_COUNT):\n",
    "        buckets.put(nextRatio(stddev,mean))\n"
   ]
  },
  {
   "cell_type": "code",
   "execution_count": 5,
   "metadata": {
    "collapsed": false
   },
   "outputs": [],
   "source": [
    "# central()\n",
    "# polar()\n",
    "ratio()"
   ]
  },
  {
   "cell_type": "code",
   "execution_count": 6,
   "metadata": {
    "collapsed": false
   },
   "outputs": [
    {
     "name": "stdout",
     "output_type": "stream",
     "text": [
      "0 122 *\n",
      "1 206 *\n",
      "2 283 **\n",
      "3 441 ***\n",
      "4 670 *****\n",
      "5 950 *******\n",
      "6 1409 **********\n",
      "7 1867 *************\n",
      "8 2494 *****************\n",
      "9 3140 **********************\n",
      "10 4032 ****************************\n",
      "11 4859 **********************************\n",
      "12 5496 **************************************\n",
      "13 6058 ******************************************\n",
      "14 6872 ************************************************\n",
      "15 7212 **************************************************\n",
      "16 7212 **************************************************\n",
      "17 7208 **************************************************\n",
      "18 6853 ************************************************\n",
      "19 6229 *******************************************\n",
      "20 5358 *************************************\n",
      "21 4895 **********************************\n",
      "22 4003 ****************************\n",
      "23 3263 ***********************\n",
      "24 2505 *****************\n",
      "25 1993 **************\n",
      "26 1403 **********\n",
      "27 967 *******\n",
      "28 677 *****\n",
      "29 462 ***\n",
      "30 285 **\n",
      "31 215 *\n"
     ]
    }
   ],
   "source": [
    "buckets.print_buckets()\n"
   ]
  },
  {
   "cell_type": "code",
   "execution_count": 6,
   "metadata": {
    "collapsed": false
   },
   "outputs": [
    {
     "name": "stdout",
     "output_type": "stream",
     "text": [
      "11.906753793254598\n",
      "26.389385498184634\n",
      "-51.25664461489332\n"
     ]
    }
   ],
   "source": [
    "print(nextCentral(mean,stddev))\n",
    "print(nextPolar(mean,stddev))\n",
    "print(nextRatio(mean,stddev))"
   ]
  },
  {
   "cell_type": "code",
   "execution_count": null,
   "metadata": {
    "collapsed": false
   },
   "outputs": [],
   "source": []
  }
 ],
 "metadata": {
  "kernelspec": {
   "display_name": "Python 3",
   "language": "python",
   "name": "python3"
  }
 },
 "nbformat": 4,
 "nbformat_minor": 2
}
