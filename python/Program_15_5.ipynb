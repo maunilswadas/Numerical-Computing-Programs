{
 "cells": [
  {
   "cell_type": "code",
   "execution_count": 5,
   "metadata": {},
   "outputs": [
    {
     "data": {
      "image/png": "[encoded data removed]",
      "text/plain": [
       "<Figure size 432x288 with 1 Axes>"
      ]
     },
     "metadata": {
      "needs_background": "light"
     },
     "output_type": "display_data"
    }
   ],
   "source": [
    "import numpy as np\n",
    "import matplotlib.pyplot as plt\n",
    "import matplotlib.cm as cm\n",
    "from library.PrimeFactors import primeSieve\n",
    "\n",
    "size = 10\n",
    "start = 1\n",
    "\n",
    "isPrime = primeSieve(size*size)\n",
    "\n",
    "def sequential():\n",
    "    grid = []\n",
    "    k = start\n",
    "    for r in range(size):\n",
    "        row = []\n",
    "        for c in range(size):\n",
    "            if isPrime[k]:\n",
    "                row.append(1)\n",
    "            else:\n",
    "                row.append(0)\n",
    "#                     plotPoint(c, r, Color.black);\n",
    "            k +=1\n",
    "        grid.append(row)\n",
    "    return grid\n",
    "\n",
    "# grid = sequential().reshape((100, 100))\n",
    "\n",
    "plt.imshow(sequential())\n",
    "plt.show()\n",
    "    \n"
   ]
  },
  {
   "cell_type": "code",
   "execution_count": 2,
   "metadata": {},
   "outputs": [],
   "source": [
    "def spiral():\n",
    "#     Arrange the integers in a counter-clockwise outward spiral.\n",
    "    direction = 0\n",
    "    steps = 1\n",
    "    dr = 0\n",
    "    dc = 1\n",
    "    \n",
    "    k = start\n",
    "    r = (size - 1)//2\n",
    "    c = r\n",
    "    \n",
    "    while  k <= max:\n",
    "        for i in range(steps, -1,-1):\n",
    "            \n",
    "            if isPrime[k]:\n",
    "                print(c,r)\n",
    "#                 plotPoint(c, r, Color.black)\n",
    "            k += 1\n",
    "            r += dr\n",
    "            c += dc\n",
    "\n",
    "#         drawPlot();\n",
    "#         yield();\n",
    "\n",
    "        direction = (direction + 1)%4;\n",
    "        if direction == 0:\n",
    "            dr = 0     \n",
    "            dc = 1\n",
    "            steps+=1\n",
    "        elif direction == 1:\n",
    "            dr = -1   \n",
    "            dc = 0\n",
    "        elif direction == 2: \n",
    "            dr = 0\n",
    "            dc = -1\n",
    "            steps+=1\n",
    "        elif direction == 3: \n",
    "            dr = 1\n",
    "            dc = 0"
   ]
  }
 ],
 "metadata": {
  "kernelspec": {
   "display_name": "Python 3",
   "language": "python",
   "name": "python3"
  },
  "language_info": {
   "codemirror_mode": {
    "name": "ipython",
    "version": 3
   },
   "file_extension": ".py",
   "mimetype": "text/x-python",
   "name": "python",
   "nbconvert_exporter": "python",
   "pygments_lexer": "ipython3",
   "version": "3.6.8"
  }
 },
 "nbformat": 4,
 "nbformat_minor": 2
}
