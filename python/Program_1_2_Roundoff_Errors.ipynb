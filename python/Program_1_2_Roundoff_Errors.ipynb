{
 "cells": [
  {
   "cell_type": "markdown",
   "metadata": {},
   "source": [
    "# PROGRAM 1-2: Roundoff Errors\n",
    "    Demonstrate how a tiny roundoff error can explode into a much larger one."
   ]
  },
  {
   "cell_type": "code",
   "execution_count": 2,
   "metadata": {
    "pycharm": {
     "is_executing": false
    }
   },
   "outputs": [],
   "source": [
    "denominator = 20000000\n",
    "a           = 10000001/denominator\n",
    "b           = 1/2\n",
    "diff1       = abs(a - b)\n",
    "pctError1   = 100 * diff1 / b\n",
    "\n",
    "inverse     = 1/diff1\n",
    "diff2       = abs(inverse - denominator)\n",
    "pctError2   = 100 * diff2 / denominator"
   ]
  },
  {
   "cell_type": "code",
   "execution_count": 3,
   "metadata": {
    "pycharm": {
     "is_executing": false
    }
   },
   "outputs": [
    {
     "name": "stdout",
     "text": [
      "        a = 0.50000005\n        b = 0.5\n    diff1 = 5.000000002919336e-08\npctError1 = 1.0000000005838672e-05%\n\n  inverse = 19999999.988322657\n    diff2 = 0.011677343398332596\npctError2 = 5.838671699166298e-08%\n\n   factor = 0.005838671695757289\n"
     ],
     "output_type": "stream"
    }
   ],
   "source": [
    "print(f'        a = {a}')\n",
    "print(f'        b = {b}')\n",
    "print(f'    diff1 = {diff1}')\n",
    "print(f'pctError1 = {pctError1}%')\n",
    "\n",
    "print()\n",
    "print(f'  inverse = {inverse}')\n",
    "print(f'    diff2 = {diff2}')\n",
    "print(f'pctError2 = {pctError2}%')\n",
    "\n",
    "print()\n",
    "print(f'   factor = {pctError2 / pctError1}')\n"
   ]
  }
 ],
 "metadata": {
  "kernelspec": {
   "display_name": "Python 3",
   "language": "python",
   "name": "python3"
  },
  "language_info": {
   "codemirror_mode": {
    "name": "ipython",
    "version": 3
   },
   "file_extension": ".py",
   "mimetype": "text/x-python",
   "name": "python",
   "nbconvert_exporter": "python",
   "pygments_lexer": "ipython3",
   "version": "3.6.7"
  },
  "pycharm": {
   "stem_cell": {
    "cell_type": "raw",
    "source": [],
    "metadata": {
     "collapsed": false
    }
   }
  }
 },
 "nbformat": 4,
 "nbformat_minor": 2
}