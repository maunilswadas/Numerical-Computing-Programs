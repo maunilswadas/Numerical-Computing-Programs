{
 "cells": [
  {
   "cell_type": "code",
   "execution_count": 2,
   "metadata": {},
   "outputs": [
    {
     "name": "stdout",
     "output_type": "stream",
     "text": [
      "0 x: 1.625     f(x): -1.359375\n",
      "1 x: 2.5625     f(x): 2.56640625\n",
      "2 x: 2.09375     f(x): 0.3837890625\n",
      "3 x: 1.859375     f(x): -0.542724609375\n",
      "4 x: 1.9765625     f(x): -0.09320068359375\n",
      "5 x: 2.03515625     f(x): 0.1418609619140625\n",
      "6 x: 2.005859375     f(x): 0.023471832275390625\n",
      "7 x: 1.9912109375     f(x): -0.035079002380371094\n",
      "8 x: 1.99853515625     f(x): -0.005857229232788086\n",
      "9 x: 2.002197265625     f(x): 0.008793890476226807\n",
      "10 x: 2.0003662109375     f(x): 0.0014649778604507446\n",
      "11 x: 1.99945068359375     f(x): -0.0021969638764858246\n",
      "12 x: 1.999908447265625     f(x): -0.00036620255559682846\n",
      "13 x: 2.0001373291015625     f(x): 0.000549335265532136\n",
      "14 x: 2.0000228881835938     f(x): 9.155325824394822e-05\n",
      "15 x: 1.9999656677246094     f(x): -0.0001373279228573665\n"
     ]
    },
    {
     "data": {
      "text/plain": [
       "1.9999656677246094"
      ]
     },
     "execution_count": 2,
     "metadata": {},
     "output_type": "execute_result"
    }
   ],
   "source": [
    "import math\n",
    "\n",
    "x_min = -0.25\n",
    "x_max = 3.5\n",
    "\n",
    "def bisection(function, x_min, x_max, tolerance, maximum_iterations):\n",
    "    if(\n",
    "        x_min < x_max and\n",
    "        function(x_min) < 0 and function(x_max) > 0 or\n",
    "        function(x_min) > 0 and function(x_max) < 0\n",
    "      ):\n",
    "        \n",
    "        x_middle = (x_min + x_max) / 2\n",
    "        \n",
    "        for interation in range(0, maximum_iterations):\n",
    "            x_middle = (x_min + x_max) / 2\n",
    "            print(interation, \"x:\", x_middle,\"    f(x):\", function(x_middle))\n",
    "            if(function(x_middle) == 0 or (x_max - x_min) / 2 < tolerance):\n",
    "                return x_middle\n",
    "            \n",
    "            if(function(x_min) * function(x_middle) > 0):\n",
    "                x_min = x_middle\n",
    "            else:\n",
    "                x_max = x_middle\n",
    "                \n",
    "        return x_middle\n",
    "    \n",
    "def func1(x):\n",
    "    return math.pow(x, 2) - 4\n",
    "\n",
    "def func2(x):\n",
    "    return -(math.pow(x, 2)) + 4 * x + 5\n",
    "\n",
    "def func3(x):\n",
    "    return math.pow(x, 3) - 3 * math.pow(x, 2) - 9 * x - 10\n",
    "\n",
    "def func4(x):\n",
    "    return math.pow(x, 2) -2 * x + 3\n",
    "\n",
    "def func5(x):\n",
    "    return 2 * math.pow(x, 3) - 10 * math.pow(x, 2) + 11 * x - 5 \n",
    "\n",
    "def func6(x):\n",
    "    return math.exp(-x) - x\n",
    "\n",
    "def func7(x):\n",
    "    return x - math.exp(1 / x)\n",
    "\n",
    "\n",
    "bisection(func1, x_min, x_max, 0.0001, 20)            "
   ]
  }
 ],
 "metadata": {
  "kernelspec": {
   "display_name": "Python 3",
   "language": "python",
   "name": "python3"
  },
  "language_info": {
   "codemirror_mode": {
    "name": "ipython",
    "version": 3
   },
   "file_extension": ".py",
   "mimetype": "text/x-python",
   "name": "python",
   "nbconvert_exporter": "python",
   "pygments_lexer": "ipython3",
   "version": "3.6.7"
  }
 },
 "nbformat": 4,
 "nbformat_minor": 2
}
