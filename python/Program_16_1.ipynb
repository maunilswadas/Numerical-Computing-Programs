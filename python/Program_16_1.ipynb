{
 "cells": [
  {
   "cell_type": "code",
   "execution_count": 5,
   "metadata": {
    "collapsed": true,
    "pycharm": {
     "is_executing": false
    }
   },
   "outputs": [
    {
     "data": {
      "text/plain": "<Figure size 432x288 with 1 Axes>",
      "image/png": "[encoded data removed]"
     },
     "metadata": {
      "needs_background": "light"
     },
     "output_type": "display_data"
    }
   ],
   "source": [
    "import matplotlib.pyplot as plt\n",
    "import numpy as np\n",
    "\n",
    "P = np.linspace(0.7, 4, 10000)\n",
    "m = 0.7\n",
    "\n",
    "X = []\n",
    "Y = []\n",
    "\n",
    "for u in P:\n",
    "    X.append(u)\n",
    "\n",
    "    m = np.random.random()\n",
    "    for n in range(1001):\n",
    "      m=(u*m)*(1-m)\n",
    "        \n",
    "    Y.append(m)\n",
    "\n",
    "plt.plot(X, Y, ls='', marker=',')\n",
    "plt.show()\n"
   ]
  }
 ],
 "metadata": {
  "language_info": {
   "codemirror_mode": {
    "name": "ipython",
    "version": 2
   },
   "file_extension": ".py",
   "mimetype": "text/x-python",
   "name": "python",
   "nbconvert_exporter": "python",
   "pygments_lexer": "ipython2",
   "version": "2.7.6"
  },
  "kernelspec": {
   "name": "pycharm-1bf43395",
   "language": "python",
   "display_name": "PyCharm (Numerical-Computing-Programs)"
  },
  "pycharm": {
   "stem_cell": {
    "cell_type": "raw",
    "source": [],
    "metadata": {
     "collapsed": false
    }
   }
  }
 },
 "nbformat": 4,
 "nbformat_minor": 0
}