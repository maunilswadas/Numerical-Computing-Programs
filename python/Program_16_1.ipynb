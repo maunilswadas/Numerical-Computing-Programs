{
 "cells": [
  {
   "cell_type": "code",
   "execution_count": null,
   "outputs": [],
   "source": [
    "import numpy as np\n",
    "from bokeh.io import output_notebook, show\n",
    "from bokeh.plotting import figure\n",
    "from bokeh.models import ColumnDataSource\n",
    "from bokeh.models.widgets import Button, Div\n",
    "from bokeh.layouts import layout\n",
    "output_notebook()\n"
   ],
   "metadata": {
    "collapsed": false,
    "pycharm": {
     "name": "#%%\n"
    }
   }
  },
  {
   "cell_type": "code",
   "execution_count": null,
   "outputs": [],
   "source": [
    "LIGHT_GREY = (240<<24) | (240<<16) | (240<<8) | 255\n",
    "SKIP_ITERS = 50\n",
    "MAX_ITERS = 200\n",
    "MAX_ALPHA = 255\n",
    "\n",
    "def bifurcation(width, height, x_min, x_max, y_min, y_max):\n",
    "    img = np.full((height, width), LIGHT_GREY, dtype=np.uint32)\n",
    "    view = img.view(dtype=np.uint8).reshape((height, width, 4))\n",
    "    x_delta = (x_max - x_min) / width\n",
    "    y_delta = (y_max - y_min) / height\n",
    "    for col in range(width):\n",
    "        c = x_min + col * x_delta\n",
    "        x = 0\n",
    "        for i in range(MAX_ITERS):\n",
    "            x = x*x + c\n",
    "            if x == float('inf') or x == float('-inf'):\n",
    "                break\n",
    "            if i >= SKIP_ITERS:\n",
    "                row = round((x - y_min) / y_delta)\n",
    "                if 0 <= row < height:\n",
    "                    view[row, col, 0] = 0\n",
    "                    view[row, col, 1] = 0\n",
    "                    view[row, col, 2] = 255  # blue\n",
    "    return img\n"
   ],
   "metadata": {
    "collapsed": false,
    "pycharm": {
     "name": "#%%\n"
    }
   }
  },
  {
   "cell_type": "code",
   "execution_count": null,
   "outputs": [],
   "source": [
    "def modify_doc(doc):\n",
    "    div = Div(text='''Bifurcation Diagram of x^2 + c and the Orbits of x=0''')\n",
    "    refresh_but = Button(label=\"Refresh\", button_type=\"success\")\n",
    "    \n",
    "    p = figure(x_range=(-2.5, 2.5), y_range=(-2.5,2.5), \n",
    "               tooltips=[(\"x\", \"$x\"), (\"y\", \"$y\")])\n",
    "    source = ColumnDataSource(data=dict(image=[], x=[], y=[], dw=[], dh=[]))\n",
    "    p.image_rgba(image='image', x='x', y='y', dw='dw', dh='dh', source=source)\n",
    "    \n",
    "    def refresh():\n",
    "        x_min = p.x_range.start\n",
    "        x_max = p.x_range.end\n",
    "        y_min = p.y_range.start\n",
    "        y_max = p.y_range.end\n",
    "        source.data = dict(\n",
    "            image=[bifurcation(\n",
    "                p.inner_width, p.inner_height,\n",
    "                x_min, x_max,\n",
    "                y_min, y_max)],\n",
    "            x=[x_min],\n",
    "            y=[y_min],\n",
    "            dw=[x_max - x_min],\n",
    "            dh=[y_max - y_min]\n",
    "        )\n",
    "    refresh_but.on_click(refresh)\n",
    "    \n",
    "    l = layout([div], [p], [refresh_but])\n",
    "    doc.add_root(l)\n",
    "\n",
    "show(modify_doc)\n"
   ],
   "metadata": {
    "collapsed": false,
    "pycharm": {
     "name": "#%%\n"
    }
   }
  }
 ],
 "metadata": {
  "language_info": {
   "codemirror_mode": {
    "name": "ipython",
    "version": 2
   },
   "file_extension": ".py",
   "mimetype": "text/x-python",
   "name": "python",
   "nbconvert_exporter": "python",
   "pygments_lexer": "ipython2",
   "version": "2.7.6"
  },
  "kernelspec": {
   "name": "pycharm-1bf43395",
   "language": "python",
   "display_name": "PyCharm (Numerical-Computing-Programs)"
  },
  "pycharm": {
   "stem_cell": {
    "cell_type": "raw",
    "source": [],
    "metadata": {
     "collapsed": false
    }
   }
  }
 },
 "nbformat": 4,
 "nbformat_minor": 0
}