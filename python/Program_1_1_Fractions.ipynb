{
 "cells": [
  {
   "cell_type": "markdown",
   "metadata": {},
   "source": [
    "# PROGRAM 1-1: Fractions\n",
    " \n",
    "#### Print and sum the values of the fractions 1/2, 1/3, 1/4, and 1/5\n",
    "#### to look for any roundoff errors."
   ]
  },
  {
   "cell_type": "code",
   "execution_count": 1,
   "metadata": {},
   "outputs": [],
   "source": [
    "HALF = 1 / 2\n",
    "THIRD   = 1/3\n",
    "QUARTER = 1/4\n",
    "FIFTH   = 1/5\n",
    "SIXTH   = 1/6\n",
    "SEVENTH = 1/7\n",
    "\n",
    "FACTOR = 840"
   ]
  },
  {
   "cell_type": "code",
   "execution_count": 2,
   "metadata": {},
   "outputs": [
    {
     "name": "stdout",
     "output_type": "stream",
     "text": [
      "1/2 = 0.5\n",
      "1/3 = 0.3333333333333333\n",
      "1/4 = 0.25\n",
      "1/5 = 0.2\n",
      "1/6 = 0.16666666666666666\n",
      "1/7 = 0.14285714285714285\n"
     ]
    }
   ],
   "source": [
    "print(f'1/2 = {HALF}')\n",
    "print(f'1/3 = {THIRD}')\n",
    "print(f'1/4 = {QUARTER}')\n",
    "print(f'1/5 = {FIFTH}')\n",
    "print(f'1/6 = {SIXTH}')\n",
    "print(f'1/7 = {SEVENTH}')"
   ]
  },
  {
   "cell_type": "code",
   "execution_count": 3,
   "metadata": {},
   "outputs": [
    {
     "name": "stdout",
     "output_type": "stream",
     "text": [
      "1/2 summed 840 times = 420.0 (should be 420.0)\n",
      "1/3 summed 840 times = 280.00000000000153 (should be 280.0)\n",
      "1/4 summed 840 times = 210.0 (should be 210.0)\n",
      "1/5 summed 840 times = 167.999999999999 (should be 168.0)\n",
      "1/6 summed 840 times = 140.00000000000077 (should be 140.0)\n",
      "1/7 summed 840 times = 119.999999999999 (should be 120.0)\n"
     ]
    }
   ],
   "source": [
    "total = sum(HALF for _ in range(0,FACTOR))\n",
    "print(f'1/2 summed {FACTOR} times = {total} (should be {FACTOR/2})')\n",
    "\n",
    "total = sum(THIRD for _ in range(0,FACTOR))\n",
    "print(f'1/3 summed {FACTOR} times = {total} (should be {FACTOR/3})')\n",
    "\n",
    "total = sum(QUARTER for _ in range(0,FACTOR))\n",
    "print(f'1/4 summed {FACTOR} times = {total} (should be {FACTOR/4})')\n",
    "\n",
    "total = sum(FIFTH for _ in range(0,FACTOR))\n",
    "print(f'1/5 summed {FACTOR} times = {total} (should be {FACTOR/5})')\n",
    "\n",
    "total = sum(SIXTH for _ in range(0,FACTOR))\n",
    "print(f'1/6 summed {FACTOR} times = {total} (should be {FACTOR/6})')\n",
    "\n",
    "total = sum(SEVENTH for _ in range(0,FACTOR))\n",
    "print(f'1/7 summed {FACTOR} times = {total} (should be {FACTOR/7})')"
   ]
  }
 ],
 "metadata": {
  "kernelspec": {
   "display_name": "Python 3",
   "language": "python",
   "name": "python3"
  },
  "language_info": {
   "codemirror_mode": {
    "name": "ipython",
    "version": 3
   },
   "file_extension": ".py",
   "mimetype": "text/x-python",
   "name": "python",
   "nbconvert_exporter": "python",
   "pygments_lexer": "ipython3",
   "version": "3.6.7"
  }
 },
 "nbformat": 4,
 "nbformat_minor": 2
}
