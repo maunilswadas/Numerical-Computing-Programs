{
 "cells": [
  {
   "cell_type": "code",
   "execution_count": 1,
   "metadata": {},
   "outputs": [
    {
     "name": "stdout",
     "output_type": "stream",
     "text": [
      "0 x: 1.0625     f(x): -2.87109375\n",
      "1 x: 1.7282608695652173     f(x): -1.013114366729679\n",
      "2 x: 1.9317685589519649     f(x): -0.26827023464464883\n",
      "3 x: 1.983540503528916     f(x): -0.06556707086025426\n",
      "4 x: 1.996068747232398     f(x): -0.015709556322085483\n",
      "5 x: 1.9990632860154385     f(x): -0.0037459785051572325\n",
      "6 x: 1.9997769330608335     f(x): -0.0008922179978068101\n"
     ]
    }
   ],
   "source": [
    "import math\n",
    "import numpy as np\n",
    "\n",
    " \n",
    "def regulaFalsi(f, a, b, tolerance, maximum_iterations):\n",
    "    \n",
    "    for i in range(0, maximum_iterations):\n",
    "        FA = f(a)\n",
    "\n",
    "        p = (a * f(b) - b * f(a)) / (f(b) - f(a))\n",
    "        FP = f(p)\n",
    "\n",
    "        print(i, \"x:\", p,\"    f(x):\", f(p))\n",
    "\n",
    "        if(FP == 0 or np.abs(f(p)) < tolerance):\n",
    "            break\n",
    "\n",
    "        if(FA * FP > 0):\n",
    "            a = p\n",
    "        else:\n",
    "            b = p\n",
    "\n",
    "def func1(x):\n",
    "    return math.pow(x, 2) - 4\n",
    "\n",
    "def func2(x):\n",
    "    return -(math.pow(x, 2)) + 4 * x + 5\n",
    "\n",
    "def func3(x):\n",
    "    return math.pow(x, 3) - 3 * math.pow(x, 2) - 9 * x - 10\n",
    "\n",
    "def func4(x):\n",
    "    return math.pow(x, 2) -2 * x + 3\n",
    "\n",
    "def func5(x):\n",
    "    return 2 * math.pow(x, 3) - 10 * math.pow(x, 2) + 11 * x - 5 \n",
    "\n",
    "def func6(x):\n",
    "    return math.exp(-x) - x\n",
    "\n",
    "def func7(x):\n",
    "    return x - math.exp(1 / x)\n",
    "\n",
    "regulaFalsi(func1, -0.25, 3.25, 0.001, 20)"
   ]
  }
 ],
 "metadata": {
  "kernelspec": {
   "display_name": "Python 3",
   "language": "python",
   "name": "python3"
  },
  "language_info": {
   "codemirror_mode": {
    "name": "ipython",
    "version": 3
   },
   "file_extension": ".py",
   "mimetype": "text/x-python",
   "name": "python",
   "nbconvert_exporter": "python",
   "pygments_lexer": "ipython3",
   "version": "3.6.8"
  }
 },
 "nbformat": 4,
 "nbformat_minor": 2
}
