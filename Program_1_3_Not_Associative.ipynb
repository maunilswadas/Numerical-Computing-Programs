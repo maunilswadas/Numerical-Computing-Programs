{
 "cells": [
  {
   "cell_type": "markdown",
   "metadata": {},
   "source": [
    "# PROGRAM 1-3: Not Associative\n",
    "    Demonstrate that floating-point addition and multiplication are not associative operations."
   ]
  },
  {
   "cell_type": "markdown",
   "metadata": {},
   "source": [
    "### Addition: Insufficient precision"
   ]
  },
  {
   "cell_type": "code",
   "execution_count": 6,
   "metadata": {},
   "outputs": [
    {
     "name": "stdout",
     "output_type": "stream",
     "text": [
      "a = 1\n",
      "b = 3e-08\n",
      "c = 4e-08\n",
      "\n",
      "(a+b)+c = 1.00000007\n",
      "a+(b+c) = 1.00000007\n"
     ]
    }
   ],
   "source": [
    "a = 1\n",
    "b = 3.0E-8\n",
    "c = 4.0E-8\n",
    "\n",
    "print(\"a =\", a)\n",
    "print(\"b =\", b)\n",
    "print(\"c =\", c)\n",
    "\n",
    "s1 = (a + b) + c\n",
    "s2 = a + (b + c)\n",
    "\n",
    "print()\n",
    "print(f'(a+b)+c = {s1}')\n",
    "print(f'a+(b+c) = {s2}')"
   ]
  },
  {
   "cell_type": "markdown",
   "metadata": {},
   "source": [
    "### Addition: Roundoff error"
   ]
  },
  {
   "cell_type": "code",
   "execution_count": 8,
   "metadata": {},
   "outputs": [
    {
     "name": "stdout",
     "output_type": "stream",
     "text": [
      "\n",
      "d = 0.54385\n",
      "e = 0.9599806\n",
      "f = 0.2252711\n",
      "\n",
      "(d+e)+f = 1.7291017\n",
      "d+(e+f) = 1.7291017\n"
     ]
    }
   ],
   "source": [
    "d  = 0.54385\n",
    "e  = 0.9599806\n",
    "f  = 0.2252711\n",
    "\n",
    "print()\n",
    "print(f'd = {d}')\n",
    "print(f'e = {e}')\n",
    "print(f'f = {f}')\n",
    "\n",
    "s1 = (d + e) + f\n",
    "s2 = d + (e + f)\n",
    "\n",
    "print()\n",
    "print(f'(d+e)+f = {s1}')\n",
    "print(f'd+(e+f) = {s2}')"
   ]
  },
  {
   "cell_type": "markdown",
   "metadata": {},
   "source": [
    "### Multipication: Underflow"
   ]
  },
  {
   "cell_type": "code",
   "execution_count": 3,
   "metadata": {},
   "outputs": [
    {
     "name": "stdout",
     "output_type": "stream",
     "text": [
      "\n",
      "u =  0.5\n",
      "v =  1e-45\n",
      "w =  3e+38\n",
      "\n",
      "(u*v)*w =  1.5e-07\n",
      "u*(v*w) =  1.5e-07\n"
     ]
    }
   ],
   "source": [
    "u = 0.5\n",
    "v = 1.0E-45\n",
    "w = 3.0E38\n",
    "\n",
    "print()\n",
    "print(f'u = {u}')\n",
    "print(f'v = {v}')\n",
    "print(f'w = {w}')\n",
    "\n",
    "p1 = (u * v) * w\n",
    "p2 = u * (v * w)\n",
    "\n",
    "print()\n",
    "print(f'(u*v)*w = \", p1)\n",
    "print(f'u*(v*w) = \", p2)"
   ]
  },
  {
   "cell_type": "markdown",
   "metadata": {},
   "source": [
    "### Multiplication: Roundoff error"
   ]
  },
  {
   "cell_type": "code",
   "execution_count": 4,
   "metadata": {},
   "outputs": [
    {
     "name": "stdout",
     "output_type": "stream",
     "text": [
      "\n",
      "x =  0.9091322\n",
      "y =  0.8606576\n",
      "z =  0.5684686\n",
      "\n",
      "(x*y)*z =  0.444799129996516\n",
      "x*(y*z) =  0.444799129996516\n"
     ]
    }
   ],
   "source": [
    "x = 0.9091322\n",
    "y = 0.8606576\n",
    "z = 0.5684686\n",
    "\n",
    "print()\n",
    "print(\"x = \", x)\n",
    "print(\"y = \", y)\n",
    "print(\"z = \", z)\n",
    "\n",
    "p1 = (x * y) * z\n",
    "p2 = x * (y * z)\n",
    "\n",
    "print()\n",
    "print(\"(x*y)*z = \", p1)\n",
    "print(\"x*(y*z) = \", p2)"
   ]
  }
 ],
 "metadata": {
  "kernelspec": {
   "display_name": "Python 3",
   "language": "python",
   "name": "python3"
  },
  "language_info": {
   "codemirror_mode": {
    "name": "ipython",
    "version": 3
   },
   "file_extension": ".py",
   "mimetype": "text/x-python",
   "name": "python",
   "nbconvert_exporter": "python",
   "pygments_lexer": "ipython3",
   "version": "3.6.7"
  }
 },
 "nbformat": 4,
 "nbformat_minor": 2
}
